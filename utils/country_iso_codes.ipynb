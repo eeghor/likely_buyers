{
 "cells": [
  {
   "cell_type": "code",
   "execution_count": 7,
   "metadata": {},
   "outputs": [],
   "source": [
    "from bs4 import BeautifulSoup\n",
    "import requests\n",
    "import pandas as pd\n",
    "import arrow"
   ]
  },
  {
   "cell_type": "code",
   "execution_count": 8,
   "metadata": {},
   "outputs": [],
   "source": [
    "renamings = {'brunei darussalam': 'brunei', \n",
    "             'venezuela (bolivarian republic of)': 'venezuela',\n",
    "             'viet nam': 'vietnam',\n",
    "             'iran (islamic republic of)': 'iran',\n",
    "             'comoros': 'comoro islands',\n",
    "             \"korea (democratic people's republic of)\": 'north korea',\n",
    "             'korea, republic of': 'south korea',\n",
    "             \"lao people's democratic republic\": 'laos',\n",
    "             \"micronesia (federated states of)\": 'micronesia',\n",
    "             'moldova, republic of': 'moldova',\n",
    "             'syrian arab republic': 'syria',\n",
    "             'united kingdom of great britain and northern ireland': 'united kingdom',\n",
    "             'taiwan, province of china': 'taiwan',\n",
    "             'tanzania, united republic of': 'tanzania',\n",
    "             'czechia': 'czech republic'}"
   ]
  },
  {
   "cell_type": "code",
   "execution_count": 9,
   "metadata": {},
   "outputs": [],
   "source": [
    "soup = BeautifulSoup(requests.get('https://en.wikipedia.org/wiki/ISO_3166-1_alpha-2').text, 'html.parser')"
   ]
  },
  {
   "cell_type": "code",
   "execution_count": 10,
   "metadata": {},
   "outputs": [],
   "source": [
    "data = []\n",
    "\n",
    "for i, r in enumerate(soup.find_all('table', class_='wikitable sortable')[0].find('tbody').find_all('tr'),1):\n",
    "    \n",
    "    if i > 1:\n",
    "        tds = r.find_all('td')\n",
    "        iso_code = tds[0].find('span').string\n",
    "        cnt = tds[1].string.strip()\n",
    "        if cnt.lower() in renamings:\n",
    "            cnt = renamings[cnt.lower()].title()\n",
    "        data.append((iso_code, cnt))     "
   ]
  },
  {
   "cell_type": "code",
   "execution_count": 11,
   "metadata": {},
   "outputs": [],
   "source": [
    "pd.DataFrame(data) \\\n",
    "    .rename(columns={0:'iso_code', 1: 'country'}) \\\n",
    "    .to_csv('country_iso_codes' + '_' + arrow.utcnow() \\\n",
    "    .to('Australia/Sydney').format('YYYY-MM-DD') + '.csv', index=False)"
   ]
  }
 ],
 "metadata": {
  "kernelspec": {
   "display_name": "Python 3",
   "language": "python",
   "name": "python3"
  },
  "language_info": {
   "codemirror_mode": {
    "name": "ipython",
    "version": 3
   },
   "file_extension": ".py",
   "mimetype": "text/x-python",
   "name": "python",
   "nbconvert_exporter": "python",
   "pygments_lexer": "ipython3",
   "version": "3.8.0"
  }
 },
 "nbformat": 4,
 "nbformat_minor": 4
}
